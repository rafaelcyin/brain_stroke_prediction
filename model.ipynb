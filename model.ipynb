{
 "cells": [
  {
   "cell_type": "markdown",
   "id": "07b2c523-2e77-4b84-b080-c11a35523c7c",
   "metadata": {},
   "source": [
    "## Objective\n",
    "\n",
    "**Use Logistic Regression Model to predict brain stroke**"
   ]
  },
  {
   "cell_type": "markdown",
   "id": "bbfe8494-6565-44d1-99b5-47a247507c87",
   "metadata": {},
   "source": [
    "## Imports"
   ]
  },
  {
   "cell_type": "code",
   "execution_count": 7,
   "id": "4c922b5c-5634-4cb2-933b-3fd7c2c78e00",
   "metadata": {},
   "outputs": [],
   "source": [
    "import seaborn as sns\n",
    "import pandas as pd\n",
    "\n",
    "\n",
    "from sklearn.model_selection import train_test_split\n",
    "from sklearn.linear_model import LogisticRegression"
   ]
  },
  {
   "cell_type": "markdown",
   "id": "1921a18d-8aa8-469e-80f4-068abbf3f0ea",
   "metadata": {},
   "source": [
    "## Exploratory Data Analysis (EDA)"
   ]
  },
  {
   "cell_type": "code",
   "execution_count": 8,
   "id": "2ce2d25b-fb36-442f-8cd3-b64caafa6d51",
   "metadata": {},
   "outputs": [],
   "source": [
    "sns.set_theme()"
   ]
  },
  {
   "cell_type": "code",
   "execution_count": null,
   "id": "178e9c6b-7d67-4715-ab59-dc25b8a63a52",
   "metadata": {},
   "outputs": [],
   "source": []
  }
 ],
 "metadata": {
  "kernelspec": {
   "display_name": "Python 3 (ipykernel)",
   "language": "python",
   "name": "python3"
  },
  "language_info": {
   "codemirror_mode": {
    "name": "ipython",
    "version": 3
   },
   "file_extension": ".py",
   "mimetype": "text/x-python",
   "name": "python",
   "nbconvert_exporter": "python",
   "pygments_lexer": "ipython3",
   "version": "3.10.4"
  }
 },
 "nbformat": 4,
 "nbformat_minor": 5
}
